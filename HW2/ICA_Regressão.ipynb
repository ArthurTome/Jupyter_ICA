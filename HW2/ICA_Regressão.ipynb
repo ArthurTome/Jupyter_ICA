{
 "cells": [
  {
   "cell_type": "code",
   "execution_count": 53,
   "metadata": {},
   "outputs": [],
   "source": [
    "%reset -f"
   ]
  },
  {
   "cell_type": "code",
   "execution_count": 54,
   "metadata": {},
   "outputs": [],
   "source": [
    "import numpy as np\n",
    "import pandas as pd\n",
    "import matplotlib.pyplot as plt\n",
    "from scipy.stats import skew\n",
    "import seaborn as sns\n",
    "from sklearn import linear_model\n",
    "from sklearn.metrics import mean_squared_error, r2_score\n",
    "\n",
    "sns.set()\n",
    "sns.set(font_scale=1.5)\n",
    "%matplotlib inline\n",
    "\n",
    "#=====================================================================================================#\n",
    "#===================================| IMPORTAÇÃO DOS DADOS |==========================================#\n",
    "#=====================================================================================================#\n",
    "\n",
    "#importa os dados\n",
    "df_trainX = pd.read_csv('solubility/solTrainX.txt', sep='\\t')\n",
    "df_trainXtrans = pd.read_csv('solubility/solTrainXtrans.txt', sep='\\t')\n",
    "df_trainY = pd.read_csv('solubility/solTrainY.txt', sep='\\t')\n",
    "\n",
    "df_testX = pd.read_csv('solubility/solTestX.txt', sep='\\t')\n",
    "df_testXtrans = pd.read_csv('solubility/solTestXtrans.txt', sep='\\t')\n",
    "df_testY = pd.read_csv('solubility/solTestY.txt', sep='\\t')"
   ]
  },
  {
   "cell_type": "code",
   "execution_count": 59,
   "metadata": {},
   "outputs": [
    {
     "name": "stdout",
     "output_type": "stream",
     "text": [
      "[[ 1.53205944e-01 -3.96733559e-02 -2.98954750e-01  2.73379584e+00\n",
      "  -7.38212025e-02  2.74124582e-02  9.34457665e-02 -8.13318809e-01\n",
      "   4.45104778e-01  7.21686329e-02  2.97523487e-04 -4.40902879e-01\n",
      "   3.33758482e-01 -1.71803035e-01 -1.60260818e-01 -1.69300010e-01\n",
      "  -3.92229250e-01 -3.25822068e-01  2.26169451e-01 -4.56256296e-02\n",
      "   1.81417006e-01 -3.27889052e-01 -4.19994225e-01  4.74809812e-01\n",
      "   2.46712486e-01  2.31827233e-01  1.09855112e-01 -8.00230150e-02\n",
      "  -2.05541111e-01  1.03361562e-01 -1.17138433e+00  5.42228746e-01\n",
      "  -1.60613312e-01 -2.19066886e-01  6.13322677e-02  1.30088719e-01\n",
      "   2.80403897e-01  3.68744446e-02  5.55239991e-01 -3.95615662e-01\n",
      "  -9.51102392e-01 -2.50679702e-02 -3.64544702e-01  1.97814399e-01\n",
      "  -4.68883940e-02 -1.47813709e-02  2.51774767e-01  1.29041710e-01\n",
      "   1.69415225e-03  9.33668141e-02 -4.36733695e-01  2.94245948e-01\n",
      "   1.34214887e-02 -3.65358835e-01 -3.02526671e-01 -9.96507766e-02\n",
      "   3.24502428e-01 -1.65730888e-01  2.32540671e-01 -6.13025857e-01\n",
      "  -4.39632399e-01 -1.87854799e+00  2.73336292e-01 -2.79875803e-01\n",
      "   2.05383202e-01 -1.31185960e-01  4.97457470e-01  1.28160319e-01\n",
      "   8.85006629e-03  1.48408004e-01 -9.65520839e-01 -4.79282201e-01\n",
      "   1.69553336e-01  1.15278613e-01  5.27602925e-01  1.69982486e-01\n",
      "  -3.73737264e-01  4.35900250e-01  2.96470823e-01 -3.18362439e-01\n",
      "   1.27067695e-01 -6.93606314e-01  3.39336821e-01 -3.24658137e-01\n",
      "   1.22099476e-02  3.64740850e-02  2.36855794e-01  5.74212720e-01\n",
      "  -3.54424831e-02 -2.65662219e-01  2.75317629e-01  2.01013659e-01\n",
      "  -1.98567345e-01 -1.45966620e-01 -4.99218591e-01 -2.60680274e-01\n",
      "  -3.03858080e-01  2.60773630e-01 -3.72708600e-01 -1.57406824e-01\n",
      "   2.71540663e-01 -1.50686868e-01 -1.46176752e-01 -6.82765345e-02\n",
      "   1.04131389e-01  2.75265631e+00  6.91337370e-03  8.43505920e-01\n",
      "   3.25081154e-01 -5.47779123e-01 -1.12222708e-01  1.46336873e-01\n",
      "  -1.49059041e-01 -2.08268300e-01 -9.13229369e-03  2.51338945e-01\n",
      "  -2.01781901e-01  7.57342617e-01 -1.81137274e-01 -9.13714124e-02\n",
      "   1.04318357e-01  2.20475106e-02  1.14649946e-01 -2.33293382e-03\n",
      "  -2.74764597e-01 -6.03912049e-01 -5.36046113e-01 -8.10323862e-02\n",
      "  -9.54658927e-01  2.21137894e-01 -1.83229296e-01 -1.54632305e-01\n",
      "   2.59610720e+00  1.70388251e-01 -3.75625298e-02 -5.71596147e-02\n",
      "  -7.84853222e-02  3.33931266e-03  3.02999217e-01  2.15347660e-01\n",
      "   6.26840597e-01  9.37687247e-01  1.76482049e-01 -1.14682352e-01\n",
      "  -2.32158536e-01  1.49530216e-01 -1.69862850e-01  1.19276071e-01\n",
      "   1.16952285e-01  2.93624937e-01 -9.56518018e-02 -3.70114714e-01\n",
      "  -1.03535960e+00  4.68093214e-01 -1.00974593e-01 -4.46863966e-01\n",
      "   2.91669760e-02  1.63200295e-01  7.71541057e-03 -2.43964037e-01\n",
      "   4.04556568e-02  6.74514489e-01  5.14811837e-01  5.75311081e-01\n",
      "  -6.21603073e-02 -6.02356566e-01 -9.86496200e-02 -1.69083335e-01\n",
      "  -5.15616691e-02  4.56460211e-01 -4.60230563e-01  4.26384055e-01\n",
      "  -1.13434138e-01 -4.10041948e-02  9.57222364e-01  1.75316152e-01\n",
      "   7.82997623e-02 -6.52699861e-02 -8.38095142e-01  4.76018729e-01\n",
      "  -1.16598584e-01  2.77286176e-01  4.88417943e-01 -3.68461305e-01\n",
      "  -3.89351496e-01  4.46811292e-01  1.38303026e-01 -1.38302285e-03\n",
      "   2.61758768e-01  2.69351033e-01 -2.14842171e-01  1.29509646e-01\n",
      "   7.97554558e-01  1.14011066e-01  1.78738525e-02 -3.07350632e-02\n",
      "   2.00994815e-01 -9.39534254e-02 -5.72052677e-02 -5.02754190e-01\n",
      "   5.66508745e-01  2.69062515e-01 -1.50149477e-01  8.14443168e-02\n",
      "  -5.82581919e-02  2.62146136e-03 -5.51366467e-01 -1.22093078e+00\n",
      "  -1.48768362e+01  1.78119660e+01  9.91201798e+00 -1.02373370e+01\n",
      "   1.73440791e-01 -5.16020458e-01 -6.35782098e-01 -2.26870152e+00\n",
      "   8.33027033e-01  4.11790469e-02  5.85661293e+00  2.38923826e+00\n",
      "  -8.90200498e+00 -7.36986495e+00  1.34433858e+00  1.23408403e+00\n",
      "   2.07845739e-04  7.28607080e-02  1.15789182e-01]]\n"
     ]
    }
   ],
   "source": [
    "#=====================================================================================================#\n",
    "#=====================================| Pre-processamento |===========================================#\n",
    "#=====================================================================================================#"
   ]
  },
  {
   "cell_type": "code",
   "execution_count": 48,
   "metadata": {
    "scrolled": false
   },
   "outputs": [
    {
     "name": "stdout",
     "output_type": "stream",
     "text": [
      "[-2.16566962e-04 -7.14182038e-02 -5.56860467e-02 -1.88460771e-01\n",
      "  4.33120777e-02 -9.48150370e-02  9.75105939e-02  1.49922645e-01\n",
      " -1.46612779e-01 -4.07658764e-02  6.17417416e-02  4.26945982e-01\n",
      "  1.87330621e-01  2.27433207e+00  1.46964110e+00  1.03480826e+00\n",
      "  5.58157507e-03  1.00462446e-01 -1.31819706e-01 -1.68420407e-01]\n"
     ]
    }
   ],
   "source": [
    "#=====================================================================================================#\n",
    "#===================================| Regressão e Metricas |==========================================#\n",
    "#=====================================================================================================#\n",
    "reg = linear_model.LinearRegression()\n",
    "reg.fit (df_trainXtrans.iloc[:,1:].values, df_trainY.values)\n",
    "print(reg.coef_)\n",
    "\n",
    "\n",
    "\n"
   ]
  },
  {
   "cell_type": "code",
   "execution_count": 49,
   "metadata": {
    "scrolled": false
   },
   "outputs": [
    {
     "name": "stdout",
     "output_type": "stream",
     "text": [
      "[0 1 0 0 0 0 0 0 0 0 0 0 0 0 0 1 0 1 0 0 0 1 1 0 0 0 1 0 1 0 0 0 0 0 1 0 0\n",
      " 0 0 0 0 0 0 1 0 0 0 1 1 0 0 0 0 0 0 0 0 1 1 1 0 0 0 0 0 0 1 0 0 1 0 0 1 0\n",
      " 0 0 0 0 0 0 0 0 1 0 0 0 0 0 1 0 0 0 0 0 0 1 0 0 0 0 0 1 0 0 0 0 1 0 0 1 0\n",
      " 0 0 1 0 0 0 0 0 0 0 0 0 0 0 0 0 0 0 0 0 0 0 0 0 0 0 0 0 0 0 0 0 0 0 0 0 0\n",
      " 0 0 0 0 0 0 0 0 0 0 0 1 0 0 0 0 0 0 0 0 0 1 0 0 0 0 0 1 0 0 0 0 1 0 0 0 0\n",
      " 0 0 0 1 1 0 1 0 0 0 0 0 0 0 0 0 0 1 1 0 0 1 0 0 0 0 0 0 1 0 0 0 1 0 0 0 0\n",
      " 0 0 0 0 0 0 0 0 0 0 0 0 0 0 0 0 1 0 0 0 0 0 1 0 1 0 0 0 0 1 0 1 1 0 0 0 0\n",
      " 0 0 0 0 0 0 0 0 0 1 0 0 1 0 0 0 0 1 0 0 0 0 1 0 1 0 0 1 0 0 1 0 0 0 1 1 0\n",
      " 0 0 0 0 1 0 0 1 0 0 0 1 0 0 0 0 0 0 1 0 0 1 0 0 1 1 0 0 0 0 0 0 0 0 0 0 1\n",
      " 0 0 0 0 1 0 0 0 0 1 0 0 0 0 1 0 0 0 0 0 1 0 0 1 0 0 0 0 0 0 0 0 0 0 0 1 0\n",
      " 0 0 0 0 1 0 0 1 0 0 1 0 0 0 0 0 1 0 1 1 0 1 0 0 0 0 0 0 0 0 0 0 0 0 0 0 0\n",
      " 0 0 0 1 0 1 0 0 0 0 0 0 1 0 1 0 0 0 0 0 0 0 0 0 0 0 1 0 0 0 0 0 0 1 1 0 0\n",
      " 0 0 0 0 1 0 0 1 1 1 0 0 0 0 0 0 0 0 0 0 0 0 0 0 0 0 1 0 0 1 0 0 0 0 0 0 0\n",
      " 0 0 0 0 0 0 0 0 0 0 1 0 0 0 1 0 0 0 0 0 0 0 0 0 1 0 0 0 0 1 0 0 0 1 0 0 0\n",
      " 1 0 0 0 0 0 0 0 0 0 0 0 0 0 0 0 0 0 0 0 0 0 1 0 0 0 0 0 0 1 0 1 0 0 0 1 0\n",
      " 0 0 1 0 1 0 0 0 0 0 0 0 0 0 0 1 0 0 0 1 0 0 0 0 0 0 1 0 0 1 0 0 0 0 0 1 0\n",
      " 0 0 0 0 0 0 0 0 1 0 1 0 0 0 0 1 0 0 0 0 0 0 0 0 0 0 0 0 1 0 0 0 0 0 0 1 0\n",
      " 1 0 0 0 0 0 1 0 0 0 1 0 0 0 0 0 0 0 0 0 0 0 0 0 0 0 0 0 0 0 0 0 0 0 0 0 0\n",
      " 0 1 0 0 0 0 0 0 1 0 0 0 0 0 0 0 0 0 0 0 0 1 1 0 0 0 0 0 0 0 0 0 0 1 0 0 0\n",
      " 0 1 1 0 0 1 0 0 1 0 0 0 0 0 0 0 0 0 0 0 0 0 0 0 0 0 0 0 0 0 0 0 0 0 0 0 0\n",
      " 0 0 0 0 0 0 0 0 0 0 0 0 0 0 0 0 0 0 0 0 0 0 0 0 0 0 0 0 0 0 0 0 0 0 0 0 0\n",
      " 0 0 0 0 0 0 0 0 0 0 0 0 0 0 0 0 0 0 0 0 0 0 0 0 0 0 0 0 0 0 1 0 0 1 0 0 0\n",
      " 0 0 0 0 0 0 0 0 0 0 0 0 1 0 0 0 0 0 0 0 0 0 0 0 0 0 0 0 0 0 0 0 0 1 0 0 0\n",
      " 0 0 0 0 0 0 0 0 0 0 0 0 0 0 0 0 0 1 0 0 0 0 0 0 0 0 0 0 0 0 0 0 0 0 0 0 0\n",
      " 0 0 0 0 0 0 0 0 0 0 0 0 0 0 0 0 0 0 0 0 0 0 0 0 0 0 0 0 0 0 0 0 0 0 0 0 0\n",
      " 0 0 0 0 0 0 0 0 1 0 0 0 0 0 0 0 0 0 0 0 0 0 0 0 0 0]\n"
     ]
    },
    {
     "data": {
      "image/png": "[encoded data removed]",
      "text/plain": [
       "<Figure size 432x288 with 1 Axes>"
      ]
     },
     "metadata": {
      "needs_background": "light"
     },
     "output_type": "display_data"
    }
   ],
   "source": [
    "a = 17\n",
    "plt.hist(df_trainXtrans.iloc[:,a],20)\n",
    "print(df_trainXtrans.iloc[:,a].values)"
   ]
  },
  {
   "cell_type": "code",
   "execution_count": null,
   "metadata": {},
   "outputs": [],
   "source": []
  }
 ],
 "metadata": {
  "kernelspec": {
   "display_name": "Python 3",
   "language": "python",
   "name": "python3"
  },
  "language_info": {
   "codemirror_mode": {
    "name": "ipython",
    "version": 3
   },
   "file_extension": ".py",
   "mimetype": "text/x-python",
   "name": "python",
   "nbconvert_exporter": "python",
   "pygments_lexer": "ipython3",
   "version": "3.8.5"
  }
 },
 "nbformat": 4,
 "nbformat_minor": 4
}
